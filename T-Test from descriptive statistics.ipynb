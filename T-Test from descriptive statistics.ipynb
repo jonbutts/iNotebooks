{
 "cells": [
  {
   "cell_type": "code",
   "execution_count": 8,
   "metadata": {
    "collapsed": true
   },
   "outputs": [],
   "source": [
    "import numpy as np\n",
    "import scipy.stats as sp"
   ]
  },
  {
   "cell_type": "code",
   "execution_count": 37,
   "metadata": {
    "collapsed": true
   },
   "outputs": [],
   "source": [
    "# from http://calebmadrigal.com/display-list-as-table-in-ipython-notebook/\n",
    "class ListTable(list):\n",
    "    \"\"\" Overridden list class which takes a 2-dimensional list of \n",
    "        the form [[1,2,3],[4,5,6]], and renders an HTML Table in \n",
    "        IPython Notebook. \"\"\"\n",
    "    \n",
    "    def _repr_html_(self):\n",
    "        html = [\"<table>\"]\n",
    "        for row in self:\n",
    "            html.append(\"<tr>\")\n",
    "            \n",
    "            for col in row:\n",
    "                html.append(\"<td>{0}</td>\".format(col))\n",
    "            \n",
    "            html.append(\"</tr>\")\n",
    "        html.append(\"</table>\")\n",
    "        return ''.join(html)"
   ]
  },
  {
   "cell_type": "code",
   "execution_count": 57,
   "metadata": {
    "collapsed": true
   },
   "outputs": [],
   "source": [
    "# Deep \n",
    "mean1 = [12688, 8453, 7212]\n",
    "std1 = [1483, 1429, 1382]\n",
    "N1 = 2500\n",
    "\n",
    "# Superficial\n",
    "mean2 = [9418, 7009]\n",
    "std2 = [2145, 2046]\n",
    "N2 = 2500\n",
    "\n",
    "# Control\n",
    "mean3 = [11693, 9571, 8591]\n",
    "std3 = [767,1021, 868]\n",
    "N3 = 2500"
   ]
  },
  {
   "cell_type": "code",
   "execution_count": 33,
   "metadata": {
    "collapsed": false
   },
   "outputs": [
    {
     "data": {
      "text/html": [
       "<table><tr><td>62.69794027018582</td><td>0.0</td></tr><tr><td>28.930598733269736</td><td>7.680521372047778e-169</td></tr></table>"
      ],
      "text/plain": [
       "[[62.697940270185818, 0.0], [28.930598733269736, 7.6805213720477777e-169]]"
      ]
     },
     "execution_count": 33,
     "metadata": {},
     "output_type": "execute_result"
    }
   ],
   "source": [
    "# Deep v. Superficial\n",
    "\n",
    "tableX = ListTable()\n",
    "\n",
    "for a in range(2):\n",
    "    ti, pi = sp.ttest_ind_from_stats(mean1[a], std1[a], N1,\n",
    "                                        mean2[a], std2[a], N2, equal_var=False)\n",
    "    tableX.append([ti,pi])\n",
    "tableX\n"
   ]
  },
  {
   "cell_type": "code",
   "execution_count": 16,
   "metadata": {
    "collapsed": false
   },
   "outputs": [
    {
     "data": {
      "text/plain": [
       "12688"
      ]
     },
     "execution_count": 16,
     "metadata": {},
     "output_type": "execute_result"
    }
   ],
   "source": [
    "mean1[0]"
   ]
  },
  {
   "cell_type": "code",
   "execution_count": 24,
   "metadata": {
    "collapsed": true
   },
   "outputs": [],
   "source": [
    "sp.ttest_ind_from_stats?\n"
   ]
  },
  {
   "cell_type": "raw",
   "metadata": {},
   "source": [
    "Group\tGroup One  \t  Group Two  \n",
    "Mean\t12688.00\t9418.00\n",
    "SD\t1483.00\t2145.00\n",
    "SEM\t29.66\t42.90\n",
    "N\t2500    \t2500 "
   ]
  },
  {
   "cell_type": "code",
   "execution_count": 36,
   "metadata": {
    "collapsed": false
   },
   "outputs": [
    {
     "data": {
      "text/html": [
       "<table><tr><td>29.797482330120868</td><td>2.7962406248639704e-175</td></tr><tr><td>-31.828830964666132</td><td>8.683969606099733e-201</td></tr><tr><td>-42.24937730071913</td><td>0.0</td></tr></table>"
      ],
      "text/plain": [
       "[[29.797482330120868, 2.7962406248639704e-175],\n",
       " [-31.828830964666132, 8.6839696060997327e-201],\n",
       " [-42.249377300719132, 0.0]]"
      ]
     },
     "execution_count": 36,
     "metadata": {},
     "output_type": "execute_result"
    }
   ],
   "source": [
    "# Deep v. Control\n",
    "\n",
    "tableX = ListTable()\n",
    "\n",
    "for a in range(3):\n",
    "    ti, pi = sp.ttest_ind_from_stats(mean1[a], std1[a], N1,\n",
    "                                        mean3[a], std3[a], N2, equal_var=False)\n",
    "    tableX.append([ti,pi])\n",
    "tableX"
   ]
  },
  {
   "cell_type": "code",
   "execution_count": 58,
   "metadata": {
    "collapsed": false
   },
   "outputs": [
    {
     "ename": "SyntaxError",
     "evalue": "invalid syntax (<ipython-input-58-2910f1ed2c6d>, line 6)",
     "output_type": "error",
     "traceback": [
      "\u001b[0;36m  File \u001b[0;32m\"<ipython-input-58-2910f1ed2c6d>\"\u001b[0;36m, line \u001b[0;32m6\u001b[0m\n\u001b[0;31m    print(\"mean\" mean3[a] \" stdev\" std3[a] \\n\u001b[0m\n\u001b[0m                     ^\u001b[0m\n\u001b[0;31mSyntaxError\u001b[0m\u001b[0;31m:\u001b[0m invalid syntax\n"
     ]
    }
   ],
   "source": [
    "# Control v. Superficial\n",
    "\n",
    "tableX = ListTable()\n",
    "\n",
    "for a in range(2):\n",
    "    print(\"mean\" mean3[a] \" stdev\" std3[a] \\n\n",
    "          \"mean\" mean2[a] \" stdev\" std2[a]) \n",
    "#     % mean3[a] % std3[a] %mean2[a] % std2[a]\n",
    "    ti, pi = sp.ttest_ind_from_stats(mean3[a], std3[a], N1,\n",
    "                                        mean2[a], std2[a], N2, equal_var=False)\n",
    "    tableX.append([ti,pi])\n",
    "tableX\n",
    "\n",
    "# (mean3,std3)"
   ]
  },
  {
   "cell_type": "code",
   "execution_count": null,
   "metadata": {
    "collapsed": true
   },
   "outputs": [],
   "source": []
  },
  {
   "cell_type": "code",
   "execution_count": null,
   "metadata": {
    "collapsed": true
   },
   "outputs": [],
   "source": []
  },
  {
   "cell_type": "code",
   "execution_count": null,
   "metadata": {
    "collapsed": true
   },
   "outputs": [],
   "source": []
  },
  {
   "cell_type": "code",
   "execution_count": null,
   "metadata": {
    "collapsed": true
   },
   "outputs": [],
   "source": []
  },
  {
   "cell_type": "code",
   "execution_count": 59,
   "metadata": {
    "collapsed": false
   },
   "outputs": [
    {
     "name": "stdout",
     "output_type": "stream",
     "text": [
      "/bin/sh: notebook: No such file or directory\r\n"
     ]
    }
   ],
   "source": [
    "!ipython nbconvert <notebook name>.ipynb --to html"
   ]
  },
  {
   "cell_type": "code",
   "execution_count": null,
   "metadata": {
    "collapsed": true
   },
   "outputs": [],
   "source": []
  }
 ],
 "metadata": {
  "anaconda-cloud": {},
  "kernelspec": {
   "display_name": "Python [Root]",
   "language": "python",
   "name": "Python [Root]"
  },
  "language_info": {
   "codemirror_mode": {
    "name": "ipython",
    "version": 3
   },
   "file_extension": ".py",
   "mimetype": "text/x-python",
   "name": "python",
   "nbconvert_exporter": "python",
   "pygments_lexer": "ipython3",
   "version": "3.5.2"
  }
 },
 "nbformat": 4,
 "nbformat_minor": 0
}
